{
 "cells": [
  {
   "cell_type": "code",
   "execution_count": 16,
   "metadata": {},
   "outputs": [],
   "source": [
    "import os\n",
    "from dotenv import load_dotenv\n",
    "import pandas as pd\n",
    "import chardet\n",
    "from unidecode import unidecode\n",
    "from sqlalchemy import create_engine\n",
    "\n",
    "# Carregar as variáveis de ambiente do arquivo .env\n",
    "load_dotenv()\n",
    "\n",
    "# Lendo as variáveis de ambiente\n",
    "db_user = os.getenv('DB_USER')\n",
    "db_password = os.getenv('DB_PASSWORD')\n",
    "db_host = os.getenv('DB_HOST')\n",
    "db_port = os.getenv('DB_PORT')\n",
    "db_name = os.getenv('DB_NAME')\n",
    "\n",
    "# Criando a string de conexão\n",
    "connection_string = f'postgresql+psycopg2://{db_user}:{db_password}@{db_host}:{db_port}/{db_name}'\n",
    "\n",
    "# Configurando a conexão com o PostgreSQL\n",
    "engine = create_engine(connection_string)"
   ]
  },
  {
   "cell_type": "code",
   "execution_count": 17,
   "metadata": {},
   "outputs": [],
   "source": [
    "# Definir qual o encoding do arquivo\n",
    "\n",
    "# Lendo uma amostra do arquivo para detectar o encoding\n",
    "# with open('../dados_csv/estabelecimentos0.csv', 'rb') as f:\n",
    "#     encoding_type = chardet.detect(f.read())  \n",
    "\n",
    "# print(encoding_type)\n",
    "encoding_type = {'encoding': 'ISO-8859-1', 'confidence': 0.7299998874356555, 'language': ''}"
   ]
  },
  {
   "cell_type": "code",
   "execution_count": 18,
   "metadata": {},
   "outputs": [],
   "source": [
    "# Definindo os tipos de dados\n",
    "dtypes = {\n",
    "    'cnpj_basico': 'str',  # NÚMERO BASE DE INSCRIÇÃO NO CNPJ (OITO PRIMEIROS DÍGITOS DO CNPJ).\n",
    "    'cnpj_ordem': 'str', # NÚMERO DO ESTABELECIMENTO DE INSCRIÇÃO NO CNPJ (DONONO ATÉ O DÉCIMO SEGUNDO DÍGITO DO CNPJ).\n",
    "    'cnpj_dv': 'str',  # DÍGITO VERIFICADOR DO CNPJ.\n",
    "    'matriz_filial': 'str',  # INDICADOR DE MATRIZ OU FILIAL. 1 - MATRIZ 2 - FILIAL\n",
    "    'nome_fantasia': 'str', # NOME DE FANTASIA DO ESTABELECIMENTO.\n",
    "    'situacao_cadastral': 'str', # CÓDIGO DA SITUAÇÃO CADASTRAL:\n",
    "      # 01 – NULA\n",
    "      # 2 – ATIVA\n",
    "      # 3 – SUSPENSA\n",
    "      # 4 – INAPTA\n",
    "      # 08 – BAIXADA\n",
    "    'data_situacao_cadastral': 'str',  # DATA DO EVENTO DA SITUAÇÃO CADASTRAL.\n",
    "    'motivo_situacao_cadastral': 'str',  # CÓDIGO DO MOTIVO DA SITUAÇÃO CADASTRAL:\n",
    "    'nome_da_cidade_no_exterior': 'str', # NOME DA CIDADE NO EXTERIOR (SE O ESTABELECIMENTO ESTIVER NO EXTERIOR).\n",
    "    'pais': 'str',  # Código do País\n",
    "    'data_inicio_atividade': 'str',  # Carregar como string inicialmente\n",
    "    'cnae_fiscal_principal': 'str',  # CÓDIGO DA ATIVIDADE ECONÔMICA PRINCIPAL.\n",
    "    'cnae_fiscal_secundaria': 'str',  # CÓDIGO DA ATIVIDADE ECONÔMICA SECUNDÁRIA.\n",
    "    'tipo_logradouro': 'str',  # TIPO DO LOGRADOURO.\n",
    "    'logradouro': 'str',  # NOME DO LOGRADOURO.\n",
    "    'numero': 'str',  # NÚMERO DO LOGRADOURO.\n",
    "    'complemento': 'str',  # COMPLEMENTO DO LOGRADOURO.\n",
    "    'bairro': 'str',  # NOME DO BAIRRO.\n",
    "    'cep': 'str',  # CÓDIGO DE ENDEREÇAMENTO POSTAL.\n",
    "    'uf': 'str',  # SIGLA DA UNIDADE DA FEDERAÇÃO.\n",
    "    'municipio': 'str',  # ÓDIGO DO MUNICÍPIO DE JURISDIÇÃO ONDE SE ENCONTRA o ESTABELECIMENTO\n",
    "    'ddd1': 'str',  # CÓDIGO DDD 1.\n",
    "    'telefone1': 'str',  # NÚMERO DE TELEFONE 1.\n",
    "    'ddd2': 'str',  # CÓDIGO DDD 2.\n",
    "    'telefone2': 'str',  # NÚMERO DE TELEFONE 2.\n",
    "    'ddd_fax': 'str',  # CÓDIGO DDD DO FAX.\n",
    "    'correio_eletronico': 'str',  # EMAIL.\n",
    "    'situacao_especial': 'str',  # CÓDIGO DA SITUAÇÃO ESPECIAL.\n",
    "    'data_situacao_especial': 'str'  # DATA DA SITUAÇÃO ESPECIAL.    \n",
    "}\n"
   ]
  },
  {
   "cell_type": "code",
   "execution_count": 19,
   "metadata": {},
   "outputs": [],
   "source": [
    "# Função para processar cada chunk\n",
    "def process_chunk(chunk):\n",
    "    chunk['data_situacao_cadastral'] = pd.to_datetime(chunk['data_situacao_cadastral'].str.strip(), format='%Y%m%d', errors='coerce')\n",
    "    chunk['data_inicio_atividade'] = pd.to_datetime(chunk['data_inicio_atividade'].str.strip(), format='%Y%m%d', errors='coerce')\n",
    "    chunk['data_situacao_especial'] = pd.to_datetime(chunk['data_situacao_especial'].str.strip(), format='%Y%m%d', errors='coerce')    \n",
    "    \n",
    "    # Aplicando a função unaccent em todas as colunas do DataFrame\n",
    "    chunk = chunk.applymap(lambda x: unidecode(x) if isinstance(x, str) else x)\n",
    "\n",
    "    chunk.to_sql('estabelecimentos', engine, if_exists='append', index=False)\n"
   ]
  },
  {
   "cell_type": "code",
   "execution_count": 21,
   "metadata": {},
   "outputs": [
    {
     "ename": "TypeError",
     "evalue": "read_csv() got an unexpected keyword argument 'error_bad_lines'",
     "output_type": "error",
     "traceback": [
      "\u001b[0;31m---------------------------------------------------------------------------\u001b[0m",
      "\u001b[0;31mTypeError\u001b[0m                                 Traceback (most recent call last)",
      "Cell \u001b[0;32mIn[21], line 3\u001b[0m\n\u001b[1;32m      1\u001b[0m \u001b[38;5;66;03m# Lendo o CSV em chunks e processando cada chunk\u001b[39;00m\n\u001b[1;32m      2\u001b[0m chunksize \u001b[38;5;241m=\u001b[39m \u001b[38;5;241m100000\u001b[39m  \u001b[38;5;66;03m# Ajuste o tamanho do chunk conforme necessário\u001b[39;00m\n\u001b[0;32m----> 3\u001b[0m \u001b[38;5;28;01mfor\u001b[39;00m chunk \u001b[38;5;129;01min\u001b[39;00m \u001b[43mpd\u001b[49m\u001b[38;5;241;43m.\u001b[39;49m\u001b[43mread_csv\u001b[49m\u001b[43m(\u001b[49m\u001b[38;5;124;43m'\u001b[39;49m\u001b[38;5;124;43m../dados_csv/estabelecimentos0.csv\u001b[39;49m\u001b[38;5;124;43m'\u001b[39;49m\u001b[43m,\u001b[49m\u001b[43m \u001b[49m\u001b[43msep\u001b[49m\u001b[38;5;241;43m=\u001b[39;49m\u001b[38;5;124;43m'\u001b[39;49m\u001b[38;5;124;43m;\u001b[39;49m\u001b[38;5;124;43m'\u001b[39;49m\u001b[43m,\u001b[49m\u001b[43m \u001b[49m\u001b[43mnames\u001b[49m\u001b[38;5;241;43m=\u001b[39;49m\u001b[38;5;28;43mlist\u001b[39;49m\u001b[43m(\u001b[49m\u001b[43mdtypes\u001b[49m\u001b[38;5;241;43m.\u001b[39;49m\u001b[43mkeys\u001b[49m\u001b[43m(\u001b[49m\u001b[43m)\u001b[49m\u001b[43m)\u001b[49m\u001b[43m,\u001b[49m\u001b[43m \u001b[49m\u001b[43mdtype\u001b[49m\u001b[38;5;241;43m=\u001b[39;49m\u001b[43mdtypes\u001b[49m\u001b[43m,\u001b[49m\u001b[43m \u001b[49m\u001b[43mchunksize\u001b[49m\u001b[38;5;241;43m=\u001b[39;49m\u001b[43mchunksize\u001b[49m\u001b[43m,\u001b[49m\u001b[43m \u001b[49m\u001b[43mencoding\u001b[49m\u001b[38;5;241;43m=\u001b[39;49m\u001b[43mencoding_type\u001b[49m\u001b[43m[\u001b[49m\u001b[38;5;124;43m\"\u001b[39;49m\u001b[38;5;124;43mencoding\u001b[39;49m\u001b[38;5;124;43m\"\u001b[39;49m\u001b[43m]\u001b[49m\u001b[43m,\u001b[49m\u001b[43m \u001b[49m\u001b[43merror_bad_lines\u001b[49m\u001b[38;5;241;43m=\u001b[39;49m\u001b[38;5;124;43m'\u001b[39;49m\u001b[38;5;124;43mskip\u001b[39;49m\u001b[38;5;124;43m'\u001b[39;49m\u001b[43m)\u001b[49m:\n\u001b[1;32m      4\u001b[0m     process_chunk(chunk)\n\u001b[1;32m      6\u001b[0m \u001b[38;5;28mprint\u001b[39m(\u001b[38;5;124m\"\u001b[39m\u001b[38;5;124mEstabelecimentos0 enviado para o PostgreSQL com sucesso!\u001b[39m\u001b[38;5;124m\"\u001b[39m)\n",
      "\u001b[0;31mTypeError\u001b[0m: read_csv() got an unexpected keyword argument 'error_bad_lines'"
     ]
    }
   ],
   "source": [
    "# Lendo o CSV em chunks e processando cada chunk\n",
    "chunksize = 100000  # Ajuste o tamanho do chunk conforme necessário\n",
    "for chunk in pd.read_csv('../dados_csv/estabelecimentos0.csv', sep=';', names=list(dtypes.keys()), dtype=dtypes, chunksize=chunksize, encoding=encoding_type[\"encoding\"], on_bad_lines='skip'):\n",
    "    process_chunk(chunk)\n",
    "\n",
    "print(\"Estabelecimentos0 enviado para o PostgreSQL com sucesso!\")"
   ]
  },
  {
   "cell_type": "code",
   "execution_count": null,
   "metadata": {},
   "outputs": [],
   "source": [
    "for chunk in pd.read_csv('../dados_csv/estabelecimentos1.csv', sep=';', names=list(dtypes.keys()), dtype=dtypes, chunksize=chunksize, encoding=encoding_type[\"encoding\"]):\n",
    "    process_chunk(chunk)\n",
    "\n",
    "print(\"Estabelecimentos1 enviado para o PostgreSQL com sucesso!\")"
   ]
  },
  {
   "cell_type": "code",
   "execution_count": null,
   "metadata": {},
   "outputs": [],
   "source": [
    "for chunk in pd.read_csv('../dados_csv/estabelecimentos2.csv', sep=';', names=list(dtypes.keys()), dtype=dtypes, chunksize=chunksize, encoding=encoding_type[\"encoding\"]):\n",
    "    process_chunk(chunk)\n",
    "\n",
    "print(\"Estabelecimentos2 enviado para o PostgreSQL com sucesso!\")"
   ]
  },
  {
   "cell_type": "code",
   "execution_count": null,
   "metadata": {},
   "outputs": [],
   "source": [
    "for chunk in pd.read_csv('../dados_csv/estabelecimentos3.csv', sep=';', names=list(dtypes.keys()), dtype=dtypes, chunksize=chunksize,encoding=encoding_type[\"encoding\"]):\n",
    "    process_chunk(chunk)\n",
    "\n",
    "print(\"Estabelecimentos3 enviado para o PostgreSQL com sucesso!\")"
   ]
  },
  {
   "cell_type": "code",
   "execution_count": null,
   "metadata": {},
   "outputs": [],
   "source": [
    "for chunk in pd.read_csv('../dados_csv/estabelecimentos4.csv', sep=';', names=list(dtypes.keys()), dtype=dtypes, chunksize=chunksize, encoding=encoding_type[\"encoding\"]):\n",
    "    process_chunk(chunk)\n",
    "\n",
    "print(\"Estabelecimentos4 enviado para o PostgreSQL com sucesso!\")"
   ]
  },
  {
   "cell_type": "code",
   "execution_count": null,
   "metadata": {},
   "outputs": [],
   "source": [
    "for chunk in pd.read_csv('../dados_csv/estabelecimentos5.csv', sep=';', names=list(dtypes.keys()), dtype=dtypes, chunksize=chunksize,encoding=encoding_type[\"encoding\"]):\n",
    "    process_chunk(chunk)\n",
    "\n",
    "print(\"Estabelecimentos5 enviado para o PostgreSQL com sucesso!\")"
   ]
  },
  {
   "cell_type": "code",
   "execution_count": null,
   "metadata": {},
   "outputs": [],
   "source": [
    "for chunk in pd.read_csv('../dados_csv/estabelecimentos6.csv', sep=';', names=list(dtypes.keys()), dtype=dtypes, chunksize=chunksize, encoding=encoding_type[\"encoding\"]):\n",
    "    process_chunk(chunk)\n",
    "\n",
    "print(\"Estabelecimentos6 enviado para o PostgreSQL com sucesso!\")"
   ]
  },
  {
   "cell_type": "code",
   "execution_count": null,
   "metadata": {},
   "outputs": [],
   "source": [
    "for chunk in pd.read_csv('../dados_csv/estabelecimentos7.csv', sep=';', names=list(dtypes.keys()), dtype=dtypes, chunksize=chunksize, encoding=encoding_type[\"encoding\"]):\n",
    "    process_chunk(chunk)\n",
    "\n",
    "print(\"Estabelecimentos7 enviado para o PostgreSQL com sucesso!\")"
   ]
  },
  {
   "cell_type": "code",
   "execution_count": null,
   "metadata": {},
   "outputs": [],
   "source": [
    "for chunk in pd.read_csv('../dados_csv/estabelecimentos8.csv', sep=';', names=list(dtypes.keys()), dtype=dtypes, chunksize=chunksize, encoding=encoding_type[\"encoding\"]):\n",
    "    process_chunk(chunk)\n",
    "\n",
    "print(\"Estabelecimentos8 enviado para o PostgreSQL com sucesso!\")"
   ]
  },
  {
   "cell_type": "code",
   "execution_count": null,
   "metadata": {},
   "outputs": [],
   "source": [
    "for chunk in pd.read_csv('../dados_csv/estabelecimentos9.csv', sep=';', names=list(dtypes.keys()), dtype=dtypes, chunksize=chunksize, encoding=encoding_type[\"encoding\"]):\n",
    "    process_chunk(chunk)\n",
    "\n",
    "print(\"Estabelecimentos9 enviado para o PostgreSQL com sucesso!\")"
   ]
  }
 ],
 "metadata": {
  "kernelspec": {
   "display_name": ".venv",
   "language": "python",
   "name": "python3"
  },
  "language_info": {
   "codemirror_mode": {
    "name": "ipython",
    "version": 3
   },
   "file_extension": ".py",
   "mimetype": "text/x-python",
   "name": "python",
   "nbconvert_exporter": "python",
   "pygments_lexer": "ipython3",
   "version": "3.10.12"
  }
 },
 "nbformat": 4,
 "nbformat_minor": 2
}
