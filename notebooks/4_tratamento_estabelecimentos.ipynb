{
 "cells": [
  {
   "cell_type": "code",
   "execution_count": 1,
   "metadata": {},
   "outputs": [],
   "source": [
    "import os\n",
    "from dotenv import load_dotenv\n",
    "import pandas as pd\n",
    "import chardet\n",
    "from unidecode import unidecode\n",
    "from sqlalchemy import create_engine\n",
    "\n",
    "# Carregar as variáveis de ambiente do arquivo .env\n",
    "load_dotenv()\n",
    "\n",
    "# Lendo as variáveis de ambiente\n",
    "db_user = os.getenv('DB_USER')\n",
    "db_password = os.getenv('DB_PASSWORD')\n",
    "db_host = os.getenv('DB_HOST')\n",
    "db_port = os.getenv('DB_PORT')\n",
    "db_name = os.getenv('DB_NAME')\n",
    "\n",
    "# Criando a string de conexão\n",
    "connection_string = f'postgresql+psycopg2://{db_user}:{db_password}@{db_host}:{db_port}/{db_name}'\n",
    "\n",
    "# Configurando a conexão com o PostgreSQL\n",
    "engine = create_engine(connection_string)"
   ]
  },
  {
   "cell_type": "code",
   "execution_count": 2,
   "metadata": {},
   "outputs": [
    {
     "name": "stdout",
     "output_type": "stream",
     "text": [
      "{'encoding': 'ISO-8859-1', 'confidence': 0.7299998874356555, 'language': ''}\n"
     ]
    }
   ],
   "source": [
    "# Definir qual o encoding do arquivo\n",
    "\n",
    "# Lendo uma amostra do arquivo para detectar o encoding\n",
    "# with open('../dados_csv/estabelecimentos0.csv', 'rb') as f:\n",
    "#     encoding_type = chardet.detect(f.read())  \n",
    "\n",
    "# print(encoding_type)\n",
    "encoding_type = {'encoding': 'ISO-8859-1', 'confidence': 0.7299998874356555, 'language': ''}"
   ]
  },
  {
   "cell_type": "code",
   "execution_count": 3,
   "metadata": {},
   "outputs": [],
   "source": [
    "# Definindo os tipos de dados\n",
    "dtypes = {\n",
    "    'cnpj_basico': 'str',  # NÚMERO BASE DE INSCRIÇÃO NO CNPJ (OITO PRIMEIROS DÍGITOS DO CNPJ).\n",
    "    'cnpj_ordem': 'str', # NÚMERO DO ESTABELECIMENTO DE INSCRIÇÃO NO CNPJ (DONONO ATÉ O DÉCIMO SEGUNDO DÍGITO DO CNPJ).\n",
    "    'cnpj_dv': 'str',  # DÍGITO VERIFICADOR DO CNPJ.\n",
    "    'matriz_filial': 'str',  # INDICADOR DE MATRIZ OU FILIAL. 1 - MATRIZ 2 - FILIAL\n",
    "    'nome_fantasia': 'str', # NOME DE FANTASIA DO ESTABELECIMENTO.\n",
    "    'situacao_cadastral': 'str', # CÓDIGO DA SITUAÇÃO CADASTRAL:\n",
    "      # 01 – NULA\n",
    "      # 2 – ATIVA\n",
    "      # 3 – SUSPENSA\n",
    "      # 4 – INAPTA\n",
    "      # 08 – BAIXADA\n",
    "    'data_situacao_cadastral': 'str',  # DATA DO EVENTO DA SITUAÇÃO CADASTRAL.\n",
    "    'motivo_situacao_cadastral': 'str',  # CÓDIGO DO MOTIVO DA SITUAÇÃO CADASTRAL:\n",
    "    'nome_da_cidade_no_exterior': 'str', # NOME DA CIDADE NO EXTERIOR (SE O ESTABELECIMENTO ESTIVER NO EXTERIOR).\n",
    "    'pais': 'str',  # Código do País\n",
    "    'data_inicio_atividade': 'str',  # Carregar como string inicialmente\n",
    "    'cnae_fiscal_principal': 'str',  # CÓDIGO DA ATIVIDADE ECONÔMICA PRINCIPAL.\n",
    "    'cnae_fiscal_secundaria': 'str',  # CÓDIGO DA ATIVIDADE ECONÔMICA SECUNDÁRIA.\n",
    "    'tipo_logradouro': 'str',  # TIPO DO LOGRADOURO.\n",
    "    'logradouro': 'str',  # NOME DO LOGRADOURO.\n",
    "    'numero': 'str',  # NÚMERO DO LOGRADOURO.\n",
    "    'complemento': 'str',  # COMPLEMENTO DO LOGRADOURO.\n",
    "    'bairro': 'str',  # NOME DO BAIRRO.\n",
    "    'cep': 'str',  # CÓDIGO DE ENDEREÇAMENTO POSTAL.\n",
    "    'uf': 'str',  # SIGLA DA UNIDADE DA FEDERAÇÃO.\n",
    "    'municipio': 'str',  # ÓDIGO DO MUNICÍPIO DE JURISDIÇÃO ONDE SE ENCONTRA o ESTABELECIMENTO\n",
    "    'ddd1': 'str',  # CÓDIGO DDD 1.\n",
    "    'telefone1': 'str',  # NÚMERO DE TELEFONE 1.\n",
    "    'ddd2': 'str',  # CÓDIGO DDD 2.\n",
    "    'telefone2': 'str',  # NÚMERO DE TELEFONE 2.\n",
    "    'ddd_fax': 'str',  # CÓDIGO DDD DO FAX.\n",
    "    'correio_eletronico': 'str',  # EMAIL.\n",
    "    'situacao_especial': 'str',  # CÓDIGO DA SITUAÇÃO ESPECIAL.\n",
    "    'data_situacao_especial': 'str'  # DATA DA SITUAÇÃO ESPECIAL.    \n",
    "}\n"
   ]
  },
  {
   "cell_type": "code",
   "execution_count": 4,
   "metadata": {},
   "outputs": [],
   "source": [
    "# Função para processar cada chunk\n",
    "def process_chunk(chunk):\n",
    "    chunk['data_situacao_cadastral'] = pd.to_datetime(chunk['data_situacao_cadastral'].str.strip(), format='%Y%m%d', errors='coerce')\n",
    "    chunk['data_inicio_atividade'] = pd.to_datetime(chunk['data_inicio_atividade'].str.strip(), format='%Y%m%d', errors='coerce')\n",
    "    chunk['data_situacao_especial'] = pd.to_datetime(chunk['data_situacao_especial'].str.strip(), format='%Y%m%d', errors='coerce')    \n",
    "    \n",
    "    # Aplicando a função unaccent em todas as colunas do DataFrame\n",
    "    chunk = chunk.applymap(lambda x: unidecode(x) if isinstance(x, str) else x)\n",
    "\n",
    "    chunk.to_sql('estabelecimentos', engine, if_exists='append', index=False)\n"
   ]
  },
  {
   "cell_type": "code",
   "execution_count": 5,
   "metadata": {},
   "outputs": [
    {
     "ename": "UnicodeDecodeError",
     "evalue": "'utf-8' codec can't decode byte 0xc1 in position 46497: invalid start byte",
     "output_type": "error",
     "traceback": [
      "\u001b[0;31m---------------------------------------------------------------------------\u001b[0m",
      "\u001b[0;31mUnicodeDecodeError\u001b[0m                        Traceback (most recent call last)",
      "Cell \u001b[0;32mIn[5], line 3\u001b[0m\n\u001b[1;32m      1\u001b[0m \u001b[38;5;66;03m# Lendo o CSV em chunks e processando cada chunk\u001b[39;00m\n\u001b[1;32m      2\u001b[0m chunksize \u001b[38;5;241m=\u001b[39m \u001b[38;5;241m100000\u001b[39m  \u001b[38;5;66;03m# Ajuste o tamanho do chunk conforme necessário\u001b[39;00m\n\u001b[0;32m----> 3\u001b[0m \u001b[38;5;28;01mfor\u001b[39;00m chunk \u001b[38;5;129;01min\u001b[39;00m \u001b[43mpd\u001b[49m\u001b[38;5;241;43m.\u001b[39;49m\u001b[43mread_csv\u001b[49m\u001b[43m(\u001b[49m\u001b[38;5;124;43m'\u001b[39;49m\u001b[38;5;124;43m../dados_csv/estabelecimentos0.csv\u001b[39;49m\u001b[38;5;124;43m'\u001b[39;49m\u001b[43m,\u001b[49m\u001b[43m \u001b[49m\u001b[43msep\u001b[49m\u001b[38;5;241;43m=\u001b[39;49m\u001b[38;5;124;43m'\u001b[39;49m\u001b[38;5;124;43m;\u001b[39;49m\u001b[38;5;124;43m'\u001b[39;49m\u001b[43m,\u001b[49m\u001b[43m \u001b[49m\u001b[43mnames\u001b[49m\u001b[38;5;241;43m=\u001b[39;49m\u001b[38;5;28;43mlist\u001b[39;49m\u001b[43m(\u001b[49m\u001b[43mdtypes\u001b[49m\u001b[38;5;241;43m.\u001b[39;49m\u001b[43mkeys\u001b[49m\u001b[43m(\u001b[49m\u001b[43m)\u001b[49m\u001b[43m)\u001b[49m\u001b[43m,\u001b[49m\u001b[43m \u001b[49m\u001b[43mdtype\u001b[49m\u001b[38;5;241;43m=\u001b[39;49m\u001b[43mdtypes\u001b[49m\u001b[43m,\u001b[49m\u001b[43m \u001b[49m\u001b[43mchunksize\u001b[49m\u001b[38;5;241;43m=\u001b[39;49m\u001b[43mchunksize\u001b[49m\u001b[43m)\u001b[49m:\n\u001b[1;32m      4\u001b[0m     process_chunk(chunk)\n\u001b[1;32m      6\u001b[0m \u001b[38;5;28mprint\u001b[39m(\u001b[38;5;124m\"\u001b[39m\u001b[38;5;124mEstabelecimentos0 enviado para o PostgreSQL com sucesso!\u001b[39m\u001b[38;5;124m\"\u001b[39m)\n",
      "File \u001b[0;32m~/projetos/PI_4/.venv/lib/python3.10/site-packages/pandas/io/parsers/readers.py:1026\u001b[0m, in \u001b[0;36mread_csv\u001b[0;34m(filepath_or_buffer, sep, delimiter, header, names, index_col, usecols, dtype, engine, converters, true_values, false_values, skipinitialspace, skiprows, skipfooter, nrows, na_values, keep_default_na, na_filter, verbose, skip_blank_lines, parse_dates, infer_datetime_format, keep_date_col, date_parser, date_format, dayfirst, cache_dates, iterator, chunksize, compression, thousands, decimal, lineterminator, quotechar, quoting, doublequote, escapechar, comment, encoding, encoding_errors, dialect, on_bad_lines, delim_whitespace, low_memory, memory_map, float_precision, storage_options, dtype_backend)\u001b[0m\n\u001b[1;32m   1013\u001b[0m kwds_defaults \u001b[38;5;241m=\u001b[39m _refine_defaults_read(\n\u001b[1;32m   1014\u001b[0m     dialect,\n\u001b[1;32m   1015\u001b[0m     delimiter,\n\u001b[0;32m   (...)\u001b[0m\n\u001b[1;32m   1022\u001b[0m     dtype_backend\u001b[38;5;241m=\u001b[39mdtype_backend,\n\u001b[1;32m   1023\u001b[0m )\n\u001b[1;32m   1024\u001b[0m kwds\u001b[38;5;241m.\u001b[39mupdate(kwds_defaults)\n\u001b[0;32m-> 1026\u001b[0m \u001b[38;5;28;01mreturn\u001b[39;00m \u001b[43m_read\u001b[49m\u001b[43m(\u001b[49m\u001b[43mfilepath_or_buffer\u001b[49m\u001b[43m,\u001b[49m\u001b[43m \u001b[49m\u001b[43mkwds\u001b[49m\u001b[43m)\u001b[49m\n",
      "File \u001b[0;32m~/projetos/PI_4/.venv/lib/python3.10/site-packages/pandas/io/parsers/readers.py:620\u001b[0m, in \u001b[0;36m_read\u001b[0;34m(filepath_or_buffer, kwds)\u001b[0m\n\u001b[1;32m    617\u001b[0m _validate_names(kwds\u001b[38;5;241m.\u001b[39mget(\u001b[38;5;124m\"\u001b[39m\u001b[38;5;124mnames\u001b[39m\u001b[38;5;124m\"\u001b[39m, \u001b[38;5;28;01mNone\u001b[39;00m))\n\u001b[1;32m    619\u001b[0m \u001b[38;5;66;03m# Create the parser.\u001b[39;00m\n\u001b[0;32m--> 620\u001b[0m parser \u001b[38;5;241m=\u001b[39m \u001b[43mTextFileReader\u001b[49m\u001b[43m(\u001b[49m\u001b[43mfilepath_or_buffer\u001b[49m\u001b[43m,\u001b[49m\u001b[43m \u001b[49m\u001b[38;5;241;43m*\u001b[39;49m\u001b[38;5;241;43m*\u001b[39;49m\u001b[43mkwds\u001b[49m\u001b[43m)\u001b[49m\n\u001b[1;32m    622\u001b[0m \u001b[38;5;28;01mif\u001b[39;00m chunksize \u001b[38;5;129;01mor\u001b[39;00m iterator:\n\u001b[1;32m    623\u001b[0m     \u001b[38;5;28;01mreturn\u001b[39;00m parser\n",
      "File \u001b[0;32m~/projetos/PI_4/.venv/lib/python3.10/site-packages/pandas/io/parsers/readers.py:1620\u001b[0m, in \u001b[0;36mTextFileReader.__init__\u001b[0;34m(self, f, engine, **kwds)\u001b[0m\n\u001b[1;32m   1617\u001b[0m     \u001b[38;5;28mself\u001b[39m\u001b[38;5;241m.\u001b[39moptions[\u001b[38;5;124m\"\u001b[39m\u001b[38;5;124mhas_index_names\u001b[39m\u001b[38;5;124m\"\u001b[39m] \u001b[38;5;241m=\u001b[39m kwds[\u001b[38;5;124m\"\u001b[39m\u001b[38;5;124mhas_index_names\u001b[39m\u001b[38;5;124m\"\u001b[39m]\n\u001b[1;32m   1619\u001b[0m \u001b[38;5;28mself\u001b[39m\u001b[38;5;241m.\u001b[39mhandles: IOHandles \u001b[38;5;241m|\u001b[39m \u001b[38;5;28;01mNone\u001b[39;00m \u001b[38;5;241m=\u001b[39m \u001b[38;5;28;01mNone\u001b[39;00m\n\u001b[0;32m-> 1620\u001b[0m \u001b[38;5;28mself\u001b[39m\u001b[38;5;241m.\u001b[39m_engine \u001b[38;5;241m=\u001b[39m \u001b[38;5;28;43mself\u001b[39;49m\u001b[38;5;241;43m.\u001b[39;49m\u001b[43m_make_engine\u001b[49m\u001b[43m(\u001b[49m\u001b[43mf\u001b[49m\u001b[43m,\u001b[49m\u001b[43m \u001b[49m\u001b[38;5;28;43mself\u001b[39;49m\u001b[38;5;241;43m.\u001b[39;49m\u001b[43mengine\u001b[49m\u001b[43m)\u001b[49m\n",
      "File \u001b[0;32m~/projetos/PI_4/.venv/lib/python3.10/site-packages/pandas/io/parsers/readers.py:1898\u001b[0m, in \u001b[0;36mTextFileReader._make_engine\u001b[0;34m(self, f, engine)\u001b[0m\n\u001b[1;32m   1895\u001b[0m     \u001b[38;5;28;01mraise\u001b[39;00m \u001b[38;5;167;01mValueError\u001b[39;00m(msg)\n\u001b[1;32m   1897\u001b[0m \u001b[38;5;28;01mtry\u001b[39;00m:\n\u001b[0;32m-> 1898\u001b[0m     \u001b[38;5;28;01mreturn\u001b[39;00m \u001b[43mmapping\u001b[49m\u001b[43m[\u001b[49m\u001b[43mengine\u001b[49m\u001b[43m]\u001b[49m\u001b[43m(\u001b[49m\u001b[43mf\u001b[49m\u001b[43m,\u001b[49m\u001b[43m \u001b[49m\u001b[38;5;241;43m*\u001b[39;49m\u001b[38;5;241;43m*\u001b[39;49m\u001b[38;5;28;43mself\u001b[39;49m\u001b[38;5;241;43m.\u001b[39;49m\u001b[43moptions\u001b[49m\u001b[43m)\u001b[49m\n\u001b[1;32m   1899\u001b[0m \u001b[38;5;28;01mexcept\u001b[39;00m \u001b[38;5;167;01mException\u001b[39;00m:\n\u001b[1;32m   1900\u001b[0m     \u001b[38;5;28;01mif\u001b[39;00m \u001b[38;5;28mself\u001b[39m\u001b[38;5;241m.\u001b[39mhandles \u001b[38;5;129;01mis\u001b[39;00m \u001b[38;5;129;01mnot\u001b[39;00m \u001b[38;5;28;01mNone\u001b[39;00m:\n",
      "File \u001b[0;32m~/projetos/PI_4/.venv/lib/python3.10/site-packages/pandas/io/parsers/c_parser_wrapper.py:93\u001b[0m, in \u001b[0;36mCParserWrapper.__init__\u001b[0;34m(self, src, **kwds)\u001b[0m\n\u001b[1;32m     90\u001b[0m \u001b[38;5;28;01mif\u001b[39;00m kwds[\u001b[38;5;124m\"\u001b[39m\u001b[38;5;124mdtype_backend\u001b[39m\u001b[38;5;124m\"\u001b[39m] \u001b[38;5;241m==\u001b[39m \u001b[38;5;124m\"\u001b[39m\u001b[38;5;124mpyarrow\u001b[39m\u001b[38;5;124m\"\u001b[39m:\n\u001b[1;32m     91\u001b[0m     \u001b[38;5;66;03m# Fail here loudly instead of in cython after reading\u001b[39;00m\n\u001b[1;32m     92\u001b[0m     import_optional_dependency(\u001b[38;5;124m\"\u001b[39m\u001b[38;5;124mpyarrow\u001b[39m\u001b[38;5;124m\"\u001b[39m)\n\u001b[0;32m---> 93\u001b[0m \u001b[38;5;28mself\u001b[39m\u001b[38;5;241m.\u001b[39m_reader \u001b[38;5;241m=\u001b[39m \u001b[43mparsers\u001b[49m\u001b[38;5;241;43m.\u001b[39;49m\u001b[43mTextReader\u001b[49m\u001b[43m(\u001b[49m\u001b[43msrc\u001b[49m\u001b[43m,\u001b[49m\u001b[43m \u001b[49m\u001b[38;5;241;43m*\u001b[39;49m\u001b[38;5;241;43m*\u001b[39;49m\u001b[43mkwds\u001b[49m\u001b[43m)\u001b[49m\n\u001b[1;32m     95\u001b[0m \u001b[38;5;28mself\u001b[39m\u001b[38;5;241m.\u001b[39munnamed_cols \u001b[38;5;241m=\u001b[39m \u001b[38;5;28mself\u001b[39m\u001b[38;5;241m.\u001b[39m_reader\u001b[38;5;241m.\u001b[39munnamed_cols\n\u001b[1;32m     97\u001b[0m \u001b[38;5;66;03m# error: Cannot determine type of 'names'\u001b[39;00m\n",
      "File \u001b[0;32mparsers.pyx:574\u001b[0m, in \u001b[0;36mpandas._libs.parsers.TextReader.__cinit__\u001b[0;34m()\u001b[0m\n",
      "File \u001b[0;32mparsers.pyx:766\u001b[0m, in \u001b[0;36mpandas._libs.parsers.TextReader._get_header\u001b[0;34m()\u001b[0m\n",
      "File \u001b[0;32mparsers.pyx:874\u001b[0m, in \u001b[0;36mpandas._libs.parsers.TextReader._tokenize_rows\u001b[0;34m()\u001b[0m\n",
      "File \u001b[0;32mparsers.pyx:891\u001b[0m, in \u001b[0;36mpandas._libs.parsers.TextReader._check_tokenize_status\u001b[0;34m()\u001b[0m\n",
      "File \u001b[0;32mparsers.pyx:2053\u001b[0m, in \u001b[0;36mpandas._libs.parsers.raise_parser_error\u001b[0;34m()\u001b[0m\n",
      "\u001b[0;31mUnicodeDecodeError\u001b[0m: 'utf-8' codec can't decode byte 0xc1 in position 46497: invalid start byte"
     ]
    }
   ],
   "source": [
    "# Lendo o CSV em chunks e processando cada chunk\n",
    "chunksize = 100000  # Ajuste o tamanho do chunk conforme necessário\n",
    "for chunk in pd.read_csv('../dados_csv/estabelecimentos0.csv', sep=';', names=list(dtypes.keys()), dtype=dtypes, chunksize=chunksize, encoding=encoding_type[\"encoding\"]):\n",
    "    process_chunk(chunk)\n",
    "\n",
    "print(\"Estabelecimentos0 enviado para o PostgreSQL com sucesso!\")"
   ]
  },
  {
   "cell_type": "code",
   "execution_count": null,
   "metadata": {},
   "outputs": [],
   "source": [
    "for chunk in pd.read_csv('../dados_csv/estabelecimentos1.csv', sep=';', names=list(dtypes.keys()), dtype=dtypes, chunksize=chunksize, encoding=encoding_type[\"encoding\"]):\n",
    "    process_chunk(chunk)\n",
    "\n",
    "print(\"Estabelecimentos1 enviado para o PostgreSQL com sucesso!\")"
   ]
  },
  {
   "cell_type": "code",
   "execution_count": null,
   "metadata": {},
   "outputs": [],
   "source": [
    "for chunk in pd.read_csv('../dados_csv/estabelecimentos2.csv', sep=';', names=list(dtypes.keys()), dtype=dtypes, chunksize=chunksize, encoding=encoding_type[\"encoding\"]):\n",
    "    process_chunk(chunk)\n",
    "\n",
    "print(\"Estabelecimentos2 enviado para o PostgreSQL com sucesso!\")"
   ]
  },
  {
   "cell_type": "code",
   "execution_count": null,
   "metadata": {},
   "outputs": [],
   "source": [
    "for chunk in pd.read_csv('../dados_csv/estabelecimentos3.csv', sep=';', names=list(dtypes.keys()), dtype=dtypes, chunksize=chunksize,encoding=encoding_type[\"encoding\"]):\n",
    "    process_chunk(chunk)\n",
    "\n",
    "print(\"Estabelecimentos3 enviado para o PostgreSQL com sucesso!\")"
   ]
  },
  {
   "cell_type": "code",
   "execution_count": null,
   "metadata": {},
   "outputs": [],
   "source": [
    "for chunk in pd.read_csv('../dados_csv/estabelecimentos4.csv', sep=';', names=list(dtypes.keys()), dtype=dtypes, chunksize=chunksize, encoding=encoding_type[\"encoding\"]):\n",
    "    process_chunk(chunk)\n",
    "\n",
    "print(\"Estabelecimentos4 enviado para o PostgreSQL com sucesso!\")"
   ]
  },
  {
   "cell_type": "code",
   "execution_count": null,
   "metadata": {},
   "outputs": [],
   "source": [
    "for chunk in pd.read_csv('../dados_csv/estabelecimentos5.csv', sep=';', names=list(dtypes.keys()), dtype=dtypes, chunksize=chunksize,encoding=encoding_type[\"encoding\"]):\n",
    "    process_chunk(chunk)\n",
    "\n",
    "print(\"Estabelecimentos5 enviado para o PostgreSQL com sucesso!\")"
   ]
  },
  {
   "cell_type": "code",
   "execution_count": null,
   "metadata": {},
   "outputs": [],
   "source": [
    "for chunk in pd.read_csv('../dados_csv/estabelecimentos6.csv', sep=';', names=list(dtypes.keys()), dtype=dtypes, chunksize=chunksize, encoding=encoding_type[\"encoding\"]):\n",
    "    process_chunk(chunk)\n",
    "\n",
    "print(\"Estabelecimentos6 enviado para o PostgreSQL com sucesso!\")"
   ]
  },
  {
   "cell_type": "code",
   "execution_count": null,
   "metadata": {},
   "outputs": [],
   "source": [
    "for chunk in pd.read_csv('../dados_csv/estabelecimentos7.csv', sep=';', names=list(dtypes.keys()), dtype=dtypes, chunksize=chunksize, encoding=encoding_type[\"encoding\"]):\n",
    "    process_chunk(chunk)\n",
    "\n",
    "print(\"Estabelecimentos7 enviado para o PostgreSQL com sucesso!\")"
   ]
  },
  {
   "cell_type": "code",
   "execution_count": null,
   "metadata": {},
   "outputs": [],
   "source": [
    "for chunk in pd.read_csv('../dados_csv/estabelecimentos8.csv', sep=';', names=list(dtypes.keys()), dtype=dtypes, chunksize=chunksize, encoding=encoding_type[\"encoding\"]):\n",
    "    process_chunk(chunk)\n",
    "\n",
    "print(\"Estabelecimentos8 enviado para o PostgreSQL com sucesso!\")"
   ]
  },
  {
   "cell_type": "code",
   "execution_count": null,
   "metadata": {},
   "outputs": [],
   "source": [
    "for chunk in pd.read_csv('../dados_csv/estabelecimentos9.csv', sep=';', names=list(dtypes.keys()), dtype=dtypes, chunksize=chunksize, encoding=encoding_type[\"encoding\"]):\n",
    "    process_chunk(chunk)\n",
    "\n",
    "print(\"Estabelecimentos9 enviado para o PostgreSQL com sucesso!\")"
   ]
  }
 ],
 "metadata": {
  "kernelspec": {
   "display_name": ".venv",
   "language": "python",
   "name": "python3"
  },
  "language_info": {
   "codemirror_mode": {
    "name": "ipython",
    "version": 3
   },
   "file_extension": ".py",
   "mimetype": "text/x-python",
   "name": "python",
   "nbconvert_exporter": "python",
   "pygments_lexer": "ipython3",
   "version": "3.10.12"
  }
 },
 "nbformat": 4,
 "nbformat_minor": 2
}
