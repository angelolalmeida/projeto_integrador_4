{
 "cells": [
  {
   "cell_type": "markdown",
   "metadata": {},
   "source": [
    "# Importação das bibliotecas"
   ]
  },
  {
   "cell_type": "code",
   "execution_count": 9,
   "metadata": {},
   "outputs": [],
   "source": [
    "import os\n",
    "from dotenv import load_dotenv\n",
    "import pandas as pd\n",
    "import chardet\n",
    "from unidecode import unidecode\n",
    "from sqlalchemy import create_engine\n",
    "\n",
    "# Carregar as variáveis de ambiente do arquivo .env\n",
    "load_dotenv()\n",
    "\n",
    "# Lendo as variáveis de ambiente\n",
    "db_user = os.getenv('DB_USER')\n",
    "db_password = os.getenv('DB_PASSWORD')\n",
    "db_host = os.getenv('DB_HOST')\n",
    "db_port = os.getenv('DB_PORT')\n",
    "db_name = os.getenv('DB_NAME')\n",
    "\n",
    "# Criando a string de conexão\n",
    "connection_string = f'postgresql+psycopg2://{db_user}:{db_password}@{db_host}:{db_port}/{db_name}'\n",
    "\n",
    "# Configurando a conexão com o PostgreSQL\n",
    "engine = create_engine(connection_string)\n"
   ]
  },
  {
   "cell_type": "markdown",
   "metadata": {},
   "source": [
    "# Carregamento dos dados"
   ]
  },
  {
   "cell_type": "code",
   "execution_count": 10,
   "metadata": {},
   "outputs": [
    {
     "name": "stdout",
     "output_type": "stream",
     "text": [
      "{'encoding': 'ascii', 'confidence': 1.0, 'language': ''}\n"
     ]
    }
   ],
   "source": [
    "# Definir qual o encoding do arquivo\n",
    "\n",
    "# Lendo uma amostra do arquivo para detectar o encoding\n",
    "with open('../dados_csv/municipios.csv', 'rb') as f:\n",
    "    encoding_type = chardet.detect(f.read())  \n",
    "\n",
    "print(encoding_type)\n",
    "#{'encoding': 'ISO-8859-1', 'confidence': 0.73, 'language': ''}"
   ]
  },
  {
   "cell_type": "code",
   "execution_count": 11,
   "metadata": {},
   "outputs": [
    {
     "name": "stderr",
     "output_type": "stream",
     "text": [
      "/tmp/ipykernel_5741/1983195392.py:4: FutureWarning: DataFrame.applymap has been deprecated. Use DataFrame.map instead.\n",
      "  municipios = municipios.applymap(lambda x: unidecode(x) if isinstance(x, str) else x)\n"
     ]
    },
    {
     "data": {
      "text/plain": [
       "571"
      ]
     },
     "execution_count": 11,
     "metadata": {},
     "output_type": "execute_result"
    }
   ],
   "source": [
    "municipios = pd.read_csv('../dados_csv/municipios.csv', sep=';' , encoding=encoding_type[\"encoding\"])\n",
    "\n",
    "# Aplicando a função unaccent em todas as colunas do DataFrame\n",
    "municipios = municipios.applymap(lambda x: unidecode(x) if isinstance(x, str) else x)\n",
    "\n",
    "municipios.to_sql('municipios', engine, if_exists='replace', index=False)\n"
   ]
  },
  {
   "cell_type": "code",
   "execution_count": 12,
   "metadata": {},
   "outputs": [
    {
     "data": {
      "text/plain": [
       "(5571, 2)"
      ]
     },
     "execution_count": 12,
     "metadata": {},
     "output_type": "execute_result"
    }
   ],
   "source": [
    "municipios.shape"
   ]
  },
  {
   "cell_type": "code",
   "execution_count": 13,
   "metadata": {},
   "outputs": [
    {
     "name": "stdout",
     "output_type": "stream",
     "text": [
      "{'encoding': 'utf-8', 'confidence': 0.99, 'language': ''}\n"
     ]
    }
   ],
   "source": [
    "# Definir qual o encoding do arquivo\n",
    "\n",
    "# Lendo uma amostra do arquivo para detectar o encoding\n",
    "with open('../dados_csv/cnae.csv', 'rb') as f:\n",
    "    encoding_type = chardet.detect(f.read())  \n",
    "\n",
    "print(encoding_type)"
   ]
  },
  {
   "cell_type": "code",
   "execution_count": 14,
   "metadata": {},
   "outputs": [
    {
     "name": "stderr",
     "output_type": "stream",
     "text": [
      "/tmp/ipykernel_5741/422456945.py:4: FutureWarning: DataFrame.applymap has been deprecated. Use DataFrame.map instead.\n",
      "  cnae = cnae.applymap(lambda x: unidecode(x) if isinstance(x, str) else x)\n"
     ]
    },
    {
     "data": {
      "text/plain": [
       "359"
      ]
     },
     "execution_count": 14,
     "metadata": {},
     "output_type": "execute_result"
    }
   ],
   "source": [
    "cnae = pd.read_csv('../dados_csv/cnae.csv', sep=';', encoding=encoding_type[\"encoding\"])\n",
    "\n",
    "# Aplicando a função unaccent em todas as colunas do DataFrame\n",
    "cnae = cnae.applymap(lambda x: unidecode(x) if isinstance(x, str) else x)\n",
    "\n",
    "cnae.to_sql('cnae', engine, if_exists='replace', index=False, )\n"
   ]
  },
  {
   "cell_type": "code",
   "execution_count": 15,
   "metadata": {},
   "outputs": [
    {
     "name": "stdout",
     "output_type": "stream",
     "text": [
      "{'encoding': 'ascii', 'confidence': 1.0, 'language': ''}\n"
     ]
    }
   ],
   "source": [
    "# Definir qual o encoding do arquivo\n",
    "\n",
    "# Lendo uma amostra do arquivo para detectar o encoding\n",
    "with open('../dados_csv/motivos.csv', 'rb') as f:\n",
    "    encoding_type = chardet.detect(f.read())  \n",
    "\n",
    "print(encoding_type)"
   ]
  },
  {
   "cell_type": "code",
   "execution_count": 16,
   "metadata": {},
   "outputs": [
    {
     "name": "stderr",
     "output_type": "stream",
     "text": [
      "/tmp/ipykernel_5741/2891887814.py:4: FutureWarning: DataFrame.applymap has been deprecated. Use DataFrame.map instead.\n",
      "  motivos = motivos.applymap(lambda x: unidecode(x) if isinstance(x, str) else x)\n"
     ]
    },
    {
     "data": {
      "text/plain": [
       "61"
      ]
     },
     "execution_count": 16,
     "metadata": {},
     "output_type": "execute_result"
    }
   ],
   "source": [
    "motivos = pd.read_csv('../dados_csv/motivos.csv', sep=';', encoding=encoding_type[\"encoding\"])\n",
    "\n",
    "# Aplicando a função unaccent em todas as colunas do DataFrame\n",
    "motivos = motivos.applymap(lambda x: unidecode(x) if isinstance(x, str) else x)\n",
    "\n",
    "motivos.to_sql('motivos', engine, if_exists='replace', index=False)"
   ]
  },
  {
   "cell_type": "code",
   "execution_count": 17,
   "metadata": {},
   "outputs": [
    {
     "name": "stdout",
     "output_type": "stream",
     "text": [
      "{'encoding': 'utf-8', 'confidence': 0.99, 'language': ''}\n"
     ]
    }
   ],
   "source": [
    "# Definir qual o encoding do arquivo\n",
    "\n",
    "# Lendo uma amostra do arquivo para detectar o encoding\n",
    "with open('../dados_csv/naturezas_juridicas.csv', 'rb') as f:\n",
    "    encoding_type = chardet.detect(f.read())  \n",
    "\n",
    "print(encoding_type)"
   ]
  },
  {
   "cell_type": "code",
   "execution_count": 18,
   "metadata": {},
   "outputs": [
    {
     "name": "stderr",
     "output_type": "stream",
     "text": [
      "/tmp/ipykernel_5741/726080049.py:4: FutureWarning: DataFrame.applymap has been deprecated. Use DataFrame.map instead.\n",
      "  naturezas_juridicas = naturezas_juridicas.applymap(lambda x: unidecode(x) if isinstance(x, str) else x)\n"
     ]
    },
    {
     "data": {
      "text/plain": [
       "90"
      ]
     },
     "execution_count": 18,
     "metadata": {},
     "output_type": "execute_result"
    }
   ],
   "source": [
    "naturezas_juridicas = pd.read_csv('../dados_csv/naturezas_juridicas.csv', sep=';', encoding=encoding_type[\"encoding\"])\n",
    "\n",
    "# Aplicando a função unaccent em todas as colunas do DataFrame\n",
    "naturezas_juridicas = naturezas_juridicas.applymap(lambda x: unidecode(x) if isinstance(x, str) else x)\n",
    "\n",
    "naturezas_juridicas.to_sql('naturezas_juridicas', engine, if_exists='replace', index=False)"
   ]
  },
  {
   "cell_type": "code",
   "execution_count": 19,
   "metadata": {},
   "outputs": [
    {
     "name": "stdout",
     "output_type": "stream",
     "text": [
      "{'encoding': 'utf-8', 'confidence': 0.99, 'language': ''}\n"
     ]
    }
   ],
   "source": [
    "# Definir qual o encoding do arquivo\n",
    "\n",
    "# Lendo uma amostra do arquivo para detectar o encoding\n",
    "with open('../dados_csv/qualificacoes_socios.csv', 'rb') as f:\n",
    "    encoding_type = chardet.detect(f.read())  \n",
    "\n",
    "print(encoding_type)"
   ]
  },
  {
   "cell_type": "code",
   "execution_count": 20,
   "metadata": {},
   "outputs": [
    {
     "name": "stderr",
     "output_type": "stream",
     "text": [
      "/tmp/ipykernel_5741/2360403738.py:4: FutureWarning: DataFrame.applymap has been deprecated. Use DataFrame.map instead.\n",
      "  qualificacoes_socios = qualificacoes_socios.applymap(lambda x: unidecode(x) if isinstance(x, str) else x)\n"
     ]
    },
    {
     "data": {
      "text/plain": [
       "68"
      ]
     },
     "execution_count": 20,
     "metadata": {},
     "output_type": "execute_result"
    }
   ],
   "source": [
    "qualificacoes_socios = pd.read_csv('../dados_csv/qualificacoes_socios.csv', sep=';', encoding=encoding_type[\"encoding\"])\n",
    "\n",
    "# Aplicando a função unaccent em todas as colunas do DataFrame\n",
    "qualificacoes_socios = qualificacoes_socios.applymap(lambda x: unidecode(x) if isinstance(x, str) else x)\n",
    "\n",
    "qualificacoes_socios.to_sql('qualificacoes_socios', engine, if_exists='replace', index=False)"
   ]
  }
 ],
 "metadata": {
  "kernelspec": {
   "display_name": ".venv",
   "language": "python",
   "name": "python3"
  },
  "language_info": {
   "codemirror_mode": {
    "name": "ipython",
    "version": 3
   },
   "file_extension": ".py",
   "mimetype": "text/x-python",
   "name": "python",
   "nbconvert_exporter": "python",
   "pygments_lexer": "ipython3",
   "version": "3.10.12"
  }
 },
 "nbformat": 4,
 "nbformat_minor": 2
}
