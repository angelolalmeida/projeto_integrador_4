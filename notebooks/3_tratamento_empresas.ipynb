{
 "cells": [
  {
   "cell_type": "code",
   "execution_count": null,
   "metadata": {},
   "outputs": [],
   "source": [
    "import os\n",
    "from dotenv import load_dotenv\n",
    "import pandas as pd\n",
    "import chardet\n",
    "from unidecode import unidecode\n",
    "from sqlalchemy import create_engine\n",
    "\n",
    "# Carregar as variáveis de ambiente do arquivo .env\n",
    "load_dotenv()\n",
    "\n",
    "# Lendo as variáveis de ambiente\n",
    "db_user = os.getenv('DB_USER')\n",
    "db_password = os.getenv('DB_PASSWORD')\n",
    "db_host = os.getenv('DB_HOST')\n",
    "db_port = os.getenv('DB_PORT')\n",
    "db_name = os.getenv('DB_NAME')\n",
    "\n",
    "# Criando a string de conexão\n",
    "connection_string = f'postgresql+psycopg2://{db_user}:{db_password}@{db_host}:{db_port}/{db_name}'\n",
    "\n",
    "# Configurando a conexão com o PostgreSQL\n",
    "engine = create_engine(connection_string)"
   ]
  },
  {
   "cell_type": "code",
   "execution_count": null,
   "metadata": {},
   "outputs": [],
   "source": [
    "# Definir qual o encoding do arquivo\n",
    "\n",
    "# Lendo uma amostra do arquivo para detectar o encoding\n",
    "with open('dados_csv/empresas1.csv', 'rb') as f:\n",
    "    encoding_type = chardet.detect(f.read(1000000))  \n",
    "\n",
    "print(encoding_type)"
   ]
  },
  {
   "cell_type": "code",
   "execution_count": null,
   "metadata": {},
   "outputs": [],
   "source": [
    "encoding_type = {'encoding': 'ISO-8859-1', 'confidence': 0.73, 'language': ''}\n",
    "# Definindo os tipos de dados\n",
    "dtypes = {\n",
    "    'cnpj_basico': 'str',  # Assumindo que o CNPJ Básico é numérico\n",
    "    'razao_social': 'str', \n",
    "    'natureza_juridica': 'str',  # Carregar como string inicialmente\n",
    "    'qualificacao_dos_socios': 'str',  # Carregar como string inicialmente\n",
    "    'capital_social': 'float',\n",
    "    'porte_da_empresa': 'str',  # Carregar como string inicialmente\n",
    "    'ente_federativo': 'str'  # Carregar como string inicialmente\n",
    "}\n",
    "\n",
    "# Função para converter valores de capital_social\n",
    "def convert_capital_social(value):\n",
    "    try:\n",
    "        return float(value.replace('.', '').replace(',', '.'))\n",
    "    except ValueError:\n",
    "        return None\n",
    "\n",
    "\n",
    "# Função para processar cada chunk\n",
    "def process_chunk(chunk):    \n",
    "    chunk.to_sql('empresas', engine, if_exists='append', index=False)\n",
    "\n",
    "\n"
   ]
  },
  {
   "cell_type": "code",
   "execution_count": null,
   "metadata": {},
   "outputs": [],
   "source": [
    "# Lendo o CSV 0 em chunks e processando cada chunk\n",
    "chunksize = 100000  # Ajuste o tamanho do chunk conforme necessário\n",
    "for chunk in pd.read_csv('../dados_csv/empresas0.csv', sep=';', names=list(dtypes.keys()), dtype=dtypes, encoding=encoding_type[\"encoding\"], chunksize=chunksize, converters={'capital_social': convert_capital_social}):\n",
    "    process_chunk(chunk)\n",
    "\n",
    "print(\"Empresas0 carregado com sucesso!\")"
   ]
  },
  {
   "cell_type": "code",
   "execution_count": null,
   "metadata": {},
   "outputs": [],
   "source": [
    "# Lendo o CSV 0 em chunks e processando cada chunk\n",
    "for chunk in pd.read_csv('../dados_csv/empresas1.csv', sep=';', names=list(dtypes.keys()), dtype=dtypes, encoding=encoding_type[\"encoding\"], chunksize=chunksize, converters={'capital_social': convert_capital_social}):\n",
    "    process_chunk(chunk)\n",
    "\n",
    "print(\"Empresas1 carregado com sucesso!\")"
   ]
  },
  {
   "cell_type": "code",
   "execution_count": null,
   "metadata": {},
   "outputs": [],
   "source": [
    "# Lendo o CSV 0 em chunks e processando cada chunk\n",
    "for chunk in pd.read_csv('../dados_csv/empresas2.csv', sep=';', names=list(dtypes.keys()), dtype=dtypes, encoding=encoding_type[\"encoding\"], chunksize=chunksize, converters={'capital_social': convert_capital_social}):\n",
    "    process_chunk(chunk)\n",
    "\n",
    "print(\"Empresas2 carregado com sucesso!\")"
   ]
  },
  {
   "cell_type": "code",
   "execution_count": null,
   "metadata": {},
   "outputs": [],
   "source": [
    "# Lendo o CSV 0 em chunks e processando cada chunk\n",
    "for chunk in pd.read_csv('../dados_csv/empresas3.csv', sep=';', names=list(dtypes.keys()), dtype=dtypes, encoding=encoding_type[\"encoding\"], chunksize=chunksize, converters={'capital_social': convert_capital_social}):\n",
    "    process_chunk(chunk)\n",
    "\n",
    "print(\"Empresas3 carregado com sucesso!\")"
   ]
  },
  {
   "cell_type": "code",
   "execution_count": null,
   "metadata": {},
   "outputs": [],
   "source": [
    "# Lendo o CSV 0 em chunks e processando cada chunk\n",
    "for chunk in pd.read_csv('../dados_csv/empresas4.csv', sep=';', names=list(dtypes.keys()), dtype=dtypes, encoding=encoding_type[\"encoding\"], chunksize=chunksize, converters={'capital_social': convert_capital_social}):\n",
    "    process_chunk(chunk)\n",
    "\n",
    "print(\"Empresas4 carregado com sucesso!\")"
   ]
  },
  {
   "cell_type": "code",
   "execution_count": null,
   "metadata": {},
   "outputs": [],
   "source": [
    "# Lendo o CSV 0 em chunks e processando cada chunk\n",
    "for chunk in pd.read_csv('../dados_csv/empresas5.csv', sep=';', names=list(dtypes.keys()), dtype=dtypes, encoding=encoding_type[\"encoding\"], chunksize=chunksize, converters={'capital_social': convert_capital_social}):\n",
    "    process_chunk(chunk)\n",
    "\n",
    "print(\"Empresas5 carregado com sucesso!\")"
   ]
  },
  {
   "cell_type": "code",
   "execution_count": null,
   "metadata": {},
   "outputs": [],
   "source": [
    "# Lendo o CSV 0 em chunks e processando cada chunk\n",
    "for chunk in pd.read_csv('../dados_csv/empresas6.csv', sep=';', names=list(dtypes.keys()), dtype=dtypes, encoding=encoding_type[\"encoding\"], chunksize=chunksize, converters={'capital_social': convert_capital_social}):\n",
    "    process_chunk(chunk)\n",
    "\n",
    "print(\"Empresas6 carregado com sucesso!\")"
   ]
  },
  {
   "cell_type": "code",
   "execution_count": null,
   "metadata": {},
   "outputs": [],
   "source": [
    "# Lendo o CSV 0 em chunks e processando cada chunk\n",
    "for chunk in pd.read_csv('../dados_csv/empresas7.csv', sep=';', names=list(dtypes.keys()), dtype=dtypes, encoding=encoding_type[\"encoding\"], chunksize=chunksize, converters={'capital_social': convert_capital_social}):\n",
    "    process_chunk(chunk)\n",
    "\n",
    "print(\"Empresas7 carregado com sucesso!\")"
   ]
  },
  {
   "cell_type": "code",
   "execution_count": null,
   "metadata": {},
   "outputs": [],
   "source": [
    "# Lendo o CSV 0 em chunks e processando cada chunk\n",
    "for chunk in pd.read_csv('../dados_csv/empresas8.csv', sep=';', names=list(dtypes.keys()), dtype=dtypes, encoding=encoding_type[\"encoding\"], chunksize=chunksize, converters={'capital_social': convert_capital_social}):\n",
    "    process_chunk(chunk)\n",
    "\n",
    "print(\"Empresas8 carregado com sucesso!\")"
   ]
  },
  {
   "cell_type": "code",
   "execution_count": null,
   "metadata": {},
   "outputs": [],
   "source": [
    "# Lendo o CSV 0 em chunks e processando cada chunk\n",
    "for chunk in pd.read_csv('../dados_csv/empresas9.csv', sep=';', names=list(dtypes.keys()), dtype=dtypes, encoding=encoding_type[\"encoding\"], chunksize=chunksize, converters={'capital_social': convert_capital_social}):\n",
    "    process_chunk(chunk)\n",
    "\n",
    "print(\"Empresas9 carregado com sucesso!\")"
   ]
  }
 ],
 "metadata": {
  "kernelspec": {
   "display_name": ".venv",
   "language": "python",
   "name": "python3"
  },
  "language_info": {
   "codemirror_mode": {
    "name": "ipython",
    "version": 3
   },
   "file_extension": ".py",
   "mimetype": "text/x-python",
   "name": "python",
   "nbconvert_exporter": "python",
   "pygments_lexer": "ipython3",
   "version": "3.10.12"
  }
 },
 "nbformat": 4,
 "nbformat_minor": 2
}
